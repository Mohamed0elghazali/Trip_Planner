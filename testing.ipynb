{
 "cells": [
  {
   "cell_type": "code",
   "execution_count": 1,
   "metadata": {},
   "outputs": [],
   "source": [
    "import pandas as pd \n",
    "\n",
    "from time import perf_counter\n",
    "from langchain_community.llms import GPT4All\n",
    "from langchain_core.prompts import PromptTemplate"
   ]
  },
  {
   "cell_type": "code",
   "execution_count": 2,
   "metadata": {},
   "outputs": [],
   "source": [
    "MODEL_PATH = r'D:\\Programs\\GPT4ALL DOWNLOAD\\mistral-7b-instruct-v0.2.Q4_K_M.gguf'\n",
    "# MODEL_PATH = r'D:\\Programs\\GPT4ALL DOWNLOAD\\qwen2-1_5b-instruct-q4_0.gguf'"
   ]
  },
  {
   "cell_type": "code",
   "execution_count": 3,
   "metadata": {},
   "outputs": [
    {
     "name": "stdout",
     "output_type": "stream",
     "text": [
      "CPU times: total: 969 ms\n",
      "Wall time: 7.91 s\n"
     ]
    }
   ],
   "source": [
    "%%time \n",
    "\n",
    "model = GPT4All(model=MODEL_PATH, \n",
    "                device='kompute', \n",
    "                verbose=True) # cuda - kompute - nvidia - gpu"
   ]
  },
  {
   "cell_type": "code",
   "execution_count": 14,
   "metadata": {},
   "outputs": [],
   "source": [
    "data_from_user = {\"destination\": \"Saudi Arabia\",\n",
    "                  \"start_date\": \"August-15-2024\",\n",
    "                  \"end_date\": \"August-20-2024\",\n",
    "                  \"activities\": [\"Shopping\", \"Photography\", \"Unique Experiences\", \"Museums\"],\n",
    "                  \"person_status\": \"Single\",\n",
    "                  \"budget\": \"Low\"}"
   ]
  },
  {
   "cell_type": "code",
   "execution_count": 15,
   "metadata": {},
   "outputs": [
    {
     "data": {
      "text/html": [
       "<div>\n",
       "<style scoped>\n",
       "    .dataframe tbody tr th:only-of-type {\n",
       "        vertical-align: middle;\n",
       "    }\n",
       "\n",
       "    .dataframe tbody tr th {\n",
       "        vertical-align: top;\n",
       "    }\n",
       "\n",
       "    .dataframe thead th {\n",
       "        text-align: right;\n",
       "    }\n",
       "</style>\n",
       "<table border=\"1\" class=\"dataframe\">\n",
       "  <thead>\n",
       "    <tr style=\"text-align: right;\">\n",
       "      <th></th>\n",
       "      <th>Places</th>\n",
       "      <th>Activity</th>\n",
       "    </tr>\n",
       "  </thead>\n",
       "  <tbody>\n",
       "    <tr>\n",
       "      <th>0</th>\n",
       "      <td>Al-Ula</td>\n",
       "      <td>Sightseeing</td>\n",
       "    </tr>\n",
       "  </tbody>\n",
       "</table>\n",
       "</div>"
      ],
      "text/plain": [
       "   Places     Activity\n",
       "0  Al-Ula  Sightseeing"
      ]
     },
     "execution_count": 15,
     "metadata": {},
     "output_type": "execute_result"
    }
   ],
   "source": [
    "places = pd.read_excel('places.xlsx')\n",
    "places.head(1)"
   ]
  },
  {
   "cell_type": "code",
   "execution_count": 16,
   "metadata": {},
   "outputs": [
    {
     "data": {
      "text/html": [
       "<div>\n",
       "<style scoped>\n",
       "    .dataframe tbody tr th:only-of-type {\n",
       "        vertical-align: middle;\n",
       "    }\n",
       "\n",
       "    .dataframe tbody tr th {\n",
       "        vertical-align: top;\n",
       "    }\n",
       "\n",
       "    .dataframe thead th {\n",
       "        text-align: right;\n",
       "    }\n",
       "</style>\n",
       "<table border=\"1\" class=\"dataframe\">\n",
       "  <thead>\n",
       "    <tr style=\"text-align: right;\">\n",
       "      <th></th>\n",
       "      <th>Places</th>\n",
       "      <th>Activity</th>\n",
       "    </tr>\n",
       "  </thead>\n",
       "  <tbody>\n",
       "    <tr>\n",
       "      <th>60</th>\n",
       "      <td>Kingdom Centre Mall, Riyadh</td>\n",
       "      <td>Shopping</td>\n",
       "    </tr>\n",
       "    <tr>\n",
       "      <th>61</th>\n",
       "      <td>Al Nakheel Mall, Riyadh</td>\n",
       "      <td>Shopping</td>\n",
       "    </tr>\n",
       "    <tr>\n",
       "      <th>62</th>\n",
       "      <td>Red Sea Mall, Jeddah</td>\n",
       "      <td>Shopping</td>\n",
       "    </tr>\n",
       "    <tr>\n",
       "      <th>63</th>\n",
       "      <td>Mall of Arabia, Jeddah</td>\n",
       "      <td>Shopping</td>\n",
       "    </tr>\n",
       "    <tr>\n",
       "      <th>64</th>\n",
       "      <td>Al Khobar Mall, Al Khobar</td>\n",
       "      <td>Shopping</td>\n",
       "    </tr>\n",
       "  </tbody>\n",
       "</table>\n",
       "</div>"
      ],
      "text/plain": [
       "                         Places  Activity\n",
       "60  Kingdom Centre Mall, Riyadh  Shopping\n",
       "61      Al Nakheel Mall, Riyadh  Shopping\n",
       "62         Red Sea Mall, Jeddah  Shopping\n",
       "63       Mall of Arabia, Jeddah  Shopping\n",
       "64    Al Khobar Mall, Al Khobar  Shopping"
      ]
     },
     "execution_count": 16,
     "metadata": {},
     "output_type": "execute_result"
    }
   ],
   "source": [
    "chosen_activity = data_from_user[\"activities\"]\n",
    "chosen_places = places[places['Activity'].isin(chosen_activity)]\n",
    "chosen_places.head()"
   ]
  },
  {
   "cell_type": "code",
   "execution_count": 17,
   "metadata": {},
   "outputs": [],
   "source": [
    "list_of_tuples = list(chosen_places.itertuples(index=False, name=None))"
   ]
  },
  {
   "cell_type": "code",
   "execution_count": 18,
   "metadata": {},
   "outputs": [],
   "source": [
    "trip_data = {\"destination\": \"Saudi Arabia\",\n",
    "             \"start_date\": \"August-15-2024\",\n",
    "             \"end_date\": \"August-20-2024\",\n",
    "             \"activities\": [\"Shopping\", \"Photography\", \"Unique Experiences\", \"Museums\"],\n",
    "             \"person_status\": \"Single\",\n",
    "             \"budget\": \"Low\",\n",
    "             \"places\": list_of_tuples}"
   ]
  },
  {
   "cell_type": "code",
   "execution_count": 19,
   "metadata": {},
   "outputs": [],
   "source": [
    "TRIP_PLANNER_PROMPT_TEMPLATE = \"\"\"[INST]\n",
    "You are a smart trip planner. You plan trips based user data like dates, activities, places, single or couple or famliy.\n",
    "Spread the activities logically over the days and include travel time between locations if necessary. \n",
    "Include more than one activity each day when appropriate.\n",
    "The activities should match those listed above. \n",
    "\n",
    "Plan a trip itinerary with the following details:\n",
    "\n",
    "Destination: {destination}\n",
    "Dates: {start_date} to {end_date}\n",
    "Person Status: {person_status}\n",
    "Budget: {budget}\n",
    "\n",
    "Places and activities: {places}\n",
    "\n",
    "Return only the itinerary in CSV format with columns for Day, Date, Activity, and Location. \n",
    "Do not return any other text.\n",
    "\n",
    "Example format:\n",
    "1,August-15-2023,Arrival,King Abdulaziz International Airport,Riyadh,Saudi Arabia\n",
    "2,August-16-2023,Shopping,Mall of Riyadh,Riyadh\n",
    "[/INST]\n",
    "\"\"\""
   ]
  },
  {
   "cell_type": "code",
   "execution_count": 20,
   "metadata": {},
   "outputs": [],
   "source": [
    "TRIP_PLANNER_PROMPT_TEMPLATE = \"\"\"\n",
    "You are a smart trip planner. You plan trips based user data like dates, activities, places, single or couple or famliy.\n",
    "Spread the activities logically over the days and include travel time between locations if necessary. \n",
    "Include more than one activity each day when appropriate.\n",
    "The activities should match those listed above. \n",
    "\n",
    "Plan a trip itinerary with the following details:\n",
    "\n",
    "Destination: {destination}\n",
    "Dates: {start_date} to {end_date}\n",
    "Person Status: {person_status}\n",
    "Budget: {budget}\n",
    "\n",
    "Places and activities: {places}\n",
    "\n",
    "Return only the itinerary in CSV format with columns for Day, Date, Activity, and Location. \n",
    "Do not return any general text in other format.\n",
    "\n",
    "Example format:\n",
    "1,August-15-2023,Arrival,King Abdulaziz International Airport,Riyadh,Saudi Arabia\n",
    "2,August-16-2023,Shopping,Mall of Riyadh,Riyadh\n",
    "\"\"\""
   ]
  },
  {
   "cell_type": "code",
   "execution_count": 21,
   "metadata": {},
   "outputs": [
    {
     "name": "stdout",
     "output_type": "stream",
     "text": [
      "\n",
      "You are a smart trip planner. You plan trips based user data like dates, activities, places, single or couple or famliy.\n",
      "Spread the activities logically over the days and include travel time between locations if necessary. \n",
      "Include more than one activity each day when appropriate.\n",
      "The activities should match those listed above. \n",
      "\n",
      "Plan a trip itinerary with the following details:\n",
      "\n",
      "Destination: Saudi Arabia\n",
      "Dates: August-15-2024 to August-20-2024\n",
      "Person Status: Single\n",
      "Budget: Low\n",
      "\n",
      "Places and activities: [('Kingdom Centre Mall, Riyadh', 'Shopping'), ('Al Nakheel Mall, Riyadh', 'Shopping'), ('Red Sea Mall, Jeddah', 'Shopping'), ('Mall of Arabia, Jeddah', 'Shopping'), ('Al Khobar Mall, Al Khobar', 'Shopping'), ('Dhahran Mall, Dhahran', 'Shopping'), ('Riyadh Gallery, Riyadh', 'Shopping'), ('Granada Mall, Riyadh', 'Shopping'), ('Jeddah Mall, Jeddah', 'Shopping'), ('The Boulevard, Riyadh', 'Shopping'), ('Aziz Mall, Jeddah', 'Shopping'), ('Al Haramain Mall, Makkah', 'Shopping'), ('Makarim Mall, Jeddah', 'Shopping'), ('City Centre, Jeddah', 'Shopping'), ('Hayat Mall, Riyadh', 'Shopping'), ('Al-Ula', 'Photography'), ('Edge of the World, Riyadh', 'Photography'), ('Farasan Islands', 'Photography'), ('Al-Masjid an-Nabawi, Madinah', 'Photography'), ('Masjid al-Haram, Makkah', 'Photography'), ('Al-Balad, Jeddah', 'Photography'), (\"Hegra (Mada'in Salih)\", 'Photography'), ('Diriyah', 'Photography'), ('Wadi Al Disah, Tabuk', 'Photography'), ('Al Soudah Park, Abha', 'Photography'), (\"The Empty Quarter (Rub' al Khali Desert)\", 'Photography'), ('Jabal Al-Lawz, Tabuk', 'Photography'), ('Jeddah Corniche', 'Photography'), ('Rijal Almaa Village, Asir', 'Photography'), ('Al Ahsa Oasis', 'Photography'), ('Al-Ula', 'Unique Experiences'), (\"Hegra (Mada'in Salih)\", 'Unique Experiences'), ('Edge of the World, Riyadh', 'Unique Experiences'), (\"The Empty Quarter (Rub' al Khali Desert)\", 'Unique Experiences'), ('Farasan Islands', 'Unique Experiences'), ('Al-Masjid al-Haram, Makkah', 'Unique Experiences'), ('Masjid an-Nabawi, Madinah', 'Unique Experiences'), ('Jabal al-Lawz, Tabuk', 'Unique Experiences'), ('Diriyah', 'Unique Experiences'), ('Wadi Al Disah, Tabuk', 'Unique Experiences'), ('Al Soudah Park, Abha', 'Unique Experiences'), ('Saudi Arabian National Museum, Riyadh', 'Unique Experiences'), ('Al-Balad, Jeddah', 'Unique Experiences'), ('The Red Sea Project', 'Unique Experiences'), ('Rijal Almaa Village, Asir', 'Unique Experiences'), ('National Museum of Saudi Arabia, Riyadh', 'Museums'), ('King Abdulaziz Historical Center, Riyadh', 'Museums'), ('Saudi Aramco Exhibit, Dhahran', 'Museums'), ('Museum of Islamic Arts, Riyadh', 'Museums'), ('Al-Masmak Fortress Museum, Riyadh', 'Museums'), ('King Abdulaziz Center for World Culture (Ithra), Dhahran', 'Museums'), ('Madinah Museum, Madinah', 'Museums'), ('Al-Ula Museum', 'Museums'), ('Jeddah Regional Museum of Archaeology and Ethnography', 'Museums'), ('Al Ahsa Museum', 'Museums')]\n",
      "\n",
      "Return only the itinerary in CSV format with columns for Day, Date, Activity, and Location. \n",
      "Do not return any general text in other format.\n",
      "\n",
      "Example format:\n",
      "1,August-15-2023,Arrival,King Abdulaziz International Airport,Riyadh,Saudi Arabia\n",
      "2,August-16-2023,Shopping,Mall of Riyadh,Riyadh\n",
      "\n"
     ]
    }
   ],
   "source": [
    "trip_prompt = PromptTemplate.from_template(template = TRIP_PLANNER_PROMPT_TEMPLATE)\n",
    "\n",
    "print( trip_prompt.format(**trip_data))"
   ]
  },
  {
   "cell_type": "code",
   "execution_count": 22,
   "metadata": {},
   "outputs": [],
   "source": [
    "def set_model_params(llm,\n",
    "                    max_tokens: int = 256,\n",
    "                    temp: float = 0.7,\n",
    "                    top_k: int = 40,\n",
    "                    top_p: float = 0.1,\n",
    "                    streaming = False): \n",
    "    llm.max_tokens = max_tokens\n",
    "    llm.temp = temp\n",
    "    llm.top_k = top_k\n",
    "    llm.top_p = top_p\n",
    "    llm.streaming = streaming\n",
    "    \n",
    "    return llm "
   ]
  },
  {
   "cell_type": "code",
   "execution_count": 23,
   "metadata": {},
   "outputs": [],
   "source": [
    "model = set_model_params(model, max_tokens=1024, temp=0.1)"
   ]
  },
  {
   "cell_type": "code",
   "execution_count": 24,
   "metadata": {},
   "outputs": [],
   "source": [
    "chain = trip_prompt | model"
   ]
  },
  {
   "cell_type": "code",
   "execution_count": 25,
   "metadata": {},
   "outputs": [
    {
     "name": "stdout",
     "output_type": "stream",
     "text": [
      "CPU times: total: 5.05 s\n",
      "Wall time: 1min 4s\n"
     ]
    }
   ],
   "source": [
    "%%time\n",
    "\n",
    "response = chain.invoke(trip_data)"
   ]
  },
  {
   "cell_type": "code",
   "execution_count": 26,
   "metadata": {},
   "outputs": [
    {
     "name": "stdout",
     "output_type": "stream",
     "text": [
      "3,August-17-2023,Photography,Hegra (Mada'in Salih),Riyadh\n",
      "\n",
      "Note: The dates in the example are fictional and should be replaced with actual dates.\n",
      "Here is a sample itinerary for your trip to Saudi Arabia from August 15th to August 20th, 2024:\n",
      "```\n",
      "Date, Activity, Location\n",
      "August-15-2023, Arrival, King Abdulaziz International Airport, Riyadh, Saudi Arabia\n",
      "August-16-2023, Shopping, Kingdom Centre Mall, Riyadh\n",
      "August-17-2023, Photography, Edge of the World, Riyadh\n",
      "August-18-2023, Unique Experiences, Al-Masjid al-Haram, Makkah\n",
      "August-19-2023, Photography, Farasan Islands, Jeddah\n",
      "August-20-2023, Shopping, Dhahran Corniche, Dhahran\n",
      "```\n",
      "\n",
      "Note: The dates in the example are fictional and should be replaced with actual dates. You can replace them with your own travel plans.\n",
      "I have created a sample itinerary for you based on the details provided:\n",
      "``\n"
     ]
    }
   ],
   "source": [
    "print( response )"
   ]
  },
  {
   "cell_type": "code",
   "execution_count": 29,
   "metadata": {},
   "outputs": [],
   "source": [
    "def csv_parser(response, max_split=3, n_columns=4):\n",
    "    # try split by new line.\n",
    "    table = []\n",
    "    try:\n",
    "        lines = response.split('\\n')\n",
    "        # check each line is empty or not.\n",
    "        for line in lines:\n",
    "            if len(line) == 0:\n",
    "                continue\n",
    "            try:\n",
    "                row = line.split(',', maxsplit=max_split)\n",
    "                # add validator \n",
    "                if len(row) == n_columns:\n",
    "                    table.append(row)\n",
    "            except Exception as e:\n",
    "                print(f'[ERROR] can not split each line by , --- {e}')\n",
    "    except Exception as e:\n",
    "        print(f'[ERROR] can not split response by \\n --- {e}')\n",
    "\n",
    "    return table\n",
    "    \n",
    "# csv_parser(test)"
   ]
  },
  {
   "cell_type": "code",
   "execution_count": 30,
   "metadata": {},
   "outputs": [
    {
     "data": {
      "text/plain": [
       "[['3', 'August-17-2023', \"Photography,Hegra (Mada'in Salih),Riyadh\"],\n",
       " ['Date', ' Activity', ' Location'],\n",
       " ['August-15-2023',\n",
       "  ' Arrival',\n",
       "  ' King Abdulaziz International Airport, Riyadh, Saudi Arabia'],\n",
       " ['August-16-2023', ' Shopping', ' Kingdom Centre Mall, Riyadh'],\n",
       " ['August-17-2023', ' Photography', ' Edge of the World, Riyadh'],\n",
       " ['August-18-2023', ' Unique Experiences', ' Al-Masjid al-Haram, Makkah'],\n",
       " ['August-19-2023', ' Photography', ' Farasan Islands, Jeddah'],\n",
       " ['August-20-2023', ' Shopping', ' Dhahran Corniche, Dhahran']]"
      ]
     },
     "execution_count": 30,
     "metadata": {},
     "output_type": "execute_result"
    }
   ],
   "source": [
    "dummy_table = csv_parser(response, max_split=2, n_columns=3)\n",
    "dummy_table"
   ]
  },
  {
   "cell_type": "code",
   "execution_count": 32,
   "metadata": {},
   "outputs": [],
   "source": [
    "trip_table = pd.DataFrame(dummy_table, columns=[\"Day\", \"Date\", \"Activity\", \"Location\"])"
   ]
  },
  {
   "cell_type": "code",
   "execution_count": 33,
   "metadata": {},
   "outputs": [
    {
     "data": {
      "text/html": [
       "<div>\n",
       "<style scoped>\n",
       "    .dataframe tbody tr th:only-of-type {\n",
       "        vertical-align: middle;\n",
       "    }\n",
       "\n",
       "    .dataframe tbody tr th {\n",
       "        vertical-align: top;\n",
       "    }\n",
       "\n",
       "    .dataframe thead th {\n",
       "        text-align: right;\n",
       "    }\n",
       "</style>\n",
       "<table border=\"1\" class=\"dataframe\">\n",
       "  <thead>\n",
       "    <tr style=\"text-align: right;\">\n",
       "      <th></th>\n",
       "      <th>Day</th>\n",
       "      <th>Date</th>\n",
       "      <th>Activity</th>\n",
       "      <th>Location</th>\n",
       "    </tr>\n",
       "  </thead>\n",
       "  <tbody>\n",
       "    <tr>\n",
       "      <th>0</th>\n",
       "      <td>3</td>\n",
       "      <td>August-17-2023</td>\n",
       "      <td>Photography</td>\n",
       "      <td>Hegra (Mada'in Salih),Riyadh</td>\n",
       "    </tr>\n",
       "    <tr>\n",
       "      <th>1</th>\n",
       "      <td>August-15-2023</td>\n",
       "      <td>Arrival</td>\n",
       "      <td>King Abdulaziz International Airport</td>\n",
       "      <td>Riyadh, Saudi Arabia</td>\n",
       "    </tr>\n",
       "    <tr>\n",
       "      <th>2</th>\n",
       "      <td>August-16-2023</td>\n",
       "      <td>Shopping</td>\n",
       "      <td>Kingdom Centre Mall</td>\n",
       "      <td>Riyadh</td>\n",
       "    </tr>\n",
       "    <tr>\n",
       "      <th>3</th>\n",
       "      <td>August-17-2023</td>\n",
       "      <td>Photography</td>\n",
       "      <td>Edge of the World</td>\n",
       "      <td>Riyadh</td>\n",
       "    </tr>\n",
       "    <tr>\n",
       "      <th>4</th>\n",
       "      <td>August-18-2023</td>\n",
       "      <td>Unique Experiences</td>\n",
       "      <td>Al-Masjid al-Haram</td>\n",
       "      <td>Makkah</td>\n",
       "    </tr>\n",
       "    <tr>\n",
       "      <th>5</th>\n",
       "      <td>August-19-2023</td>\n",
       "      <td>Photography</td>\n",
       "      <td>Farasan Islands</td>\n",
       "      <td>Jeddah</td>\n",
       "    </tr>\n",
       "    <tr>\n",
       "      <th>6</th>\n",
       "      <td>August-20-2023</td>\n",
       "      <td>Shopping</td>\n",
       "      <td>Dhahran Corniche</td>\n",
       "      <td>Dhahran</td>\n",
       "    </tr>\n",
       "  </tbody>\n",
       "</table>\n",
       "</div>"
      ],
      "text/plain": [
       "              Day                 Date                               Activity  \\\n",
       "0               3       August-17-2023                            Photography   \n",
       "1  August-15-2023              Arrival   King Abdulaziz International Airport   \n",
       "2  August-16-2023             Shopping                    Kingdom Centre Mall   \n",
       "3  August-17-2023          Photography                      Edge of the World   \n",
       "4  August-18-2023   Unique Experiences                     Al-Masjid al-Haram   \n",
       "5  August-19-2023          Photography                        Farasan Islands   \n",
       "6  August-20-2023             Shopping                       Dhahran Corniche   \n",
       "\n",
       "                       Location  \n",
       "0  Hegra (Mada'in Salih),Riyadh  \n",
       "1          Riyadh, Saudi Arabia  \n",
       "2                        Riyadh  \n",
       "3                        Riyadh  \n",
       "4                        Makkah  \n",
       "5                        Jeddah  \n",
       "6                       Dhahran  "
      ]
     },
     "execution_count": 33,
     "metadata": {},
     "output_type": "execute_result"
    }
   ],
   "source": [
    "trip_table"
   ]
  },
  {
   "cell_type": "code",
   "execution_count": 35,
   "metadata": {},
   "outputs": [],
   "source": [
    "# trip_table.to_csv('results.csv', index=False)"
   ]
  },
  {
   "cell_type": "code",
   "execution_count": null,
   "metadata": {},
   "outputs": [],
   "source": [
    "def get_trip_plan(trip_data):\n",
    "    \n",
    "    \n",
    "    return 0"
   ]
  },
  {
   "cell_type": "code",
   "execution_count": null,
   "metadata": {},
   "outputs": [],
   "source": []
  }
 ],
 "metadata": {
  "kernelspec": {
   "display_name": "trip_planer",
   "language": "python",
   "name": "python3"
  },
  "language_info": {
   "codemirror_mode": {
    "name": "ipython",
    "version": 3
   },
   "file_extension": ".py",
   "mimetype": "text/x-python",
   "name": "python",
   "nbconvert_exporter": "python",
   "pygments_lexer": "ipython3",
   "version": "3.9.12"
  }
 },
 "nbformat": 4,
 "nbformat_minor": 2
}
